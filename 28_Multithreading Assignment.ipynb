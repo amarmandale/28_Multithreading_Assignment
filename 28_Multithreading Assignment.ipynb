{
 "cells": [
  {
   "cell_type": "markdown",
   "id": "265e7e07-9ef4-414c-9596-c4e8b705e9f3",
   "metadata": {},
   "source": [
    "#### Q1. What is multithreading in python? Why is it used? Name the module used to handle threads in python."
   ]
  },
  {
   "cell_type": "code",
   "execution_count": 2,
   "id": "89ac53eb-d1a7-4826-ac9d-fe8ada6dca34",
   "metadata": {},
   "outputs": [],
   "source": [
    "'''\n",
    "Multithreading in Python refers to the concurrent execution of multiple threads within a single process.\n",
    "A thread is the smallest unit of execution in a program. In a multithreaded program, \n",
    "multiple threads run independently and share the same memory space, allowing them to\n",
    "efficiently execute tasks concurrently and take advantage of modern multi-core processors.\n",
    "\n",
    "Python's threading module provides a way to work with threads. With multithreading,\n",
    "you can achieve better performance for certain types of tasks, particularly those that are I/O-bound,\n",
    "such as network requests, file operations, or waiting for user input. However,\n",
    "it's important to note that due to the Global Interpreter Lock (GIL)\n",
    "in the standard CPython interpreter, threads are not suitable for CPU-bound tasks\n",
    "that require significant computational power.\n",
    "\n",
    "Multithreading is used in Python for:\n",
    "\n",
    "1. Concurrency: Running tasks simultaneously to improve resource utilization.\n",
    "2. Responsiveness:Keeping apps interactive while waiting for tasks.\n",
    "3. Limited Parallelism: Utilizing multiple cores for I/O-bound tasks.\n",
    "4. Simplicity: Easier data sharing between threads.\n",
    "5. Efficient Context Switching:** Quick task switching.\n",
    "   \n",
    "But, it has:\n",
    "   \n",
    "GIL Limitations: No true parallelism for CPU-bound tasks in CPython.\n",
    "Complexity: Race conditions, deadlocks, synchronization issues.\n",
    "Debugging Challenges: Complex to debug due to non-deterministic execution.\n",
    "Overhead Concerns: Creating and managing threads can be costly.\n",
    "\n",
    "The module used to handle threads in Python is the threading module.\n",
    "'''"
   ]
  },
  {
   "cell_type": "markdown",
   "id": "7e2ef82b-e2b9-4b3e-87da-da2ea8ae6819",
   "metadata": {},
   "source": [
    "####  Q2. Why threading module used? Write the use of the following functions: \n",
    "1. activeCount()\n",
    " 2. currentThread() \n",
    "3. enumerate()"
   ]
  },
  {
   "cell_type": "code",
   "execution_count": null,
   "id": "9ea652ea-6b07-4920-8fb5-add27c3422d0",
   "metadata": {},
   "outputs": [],
   "source": [
    "'''The threading module in Python is used to work with threads, allowing you to create, \n",
    "manage, and coordinate concurrent execution of tasks within a single process.\n",
    "It provides a higher-level interface compared to the lower-level _thread module, \n",
    "making it easier to work with threads and manage synchronization.\n",
    "\n",
    "\n",
    " 1)activeCount()\n",
    " The functions provided by the threading module is activeCount(), \n",
    " which returns the number of Thread objects currently alive.\n",
    " A Thread object corresponds to a thread of execution.\n",
    " This function can be useful for monitoring and managing the number of active threads in your program.'''"
   ]
  },
  {
   "cell_type": "code",
   "execution_count": 3,
   "id": "43a79590-c412-40d5-9c10-0298bfa01988",
   "metadata": {},
   "outputs": [
    {
     "name": "stdout",
     "output_type": "stream",
     "text": [
      "Thread started.\n",
      "Thread started.\n",
      "Thread started.\n",
      "Thread started.\n",
      "Thread started.\n",
      "Thread finished.Thread finished.\n",
      "\n",
      "Thread finished.\n",
      "Thread finished.\n",
      "Thread finished.\n",
      "Active threads: 8\n"
     ]
    },
    {
     "name": "stderr",
     "output_type": "stream",
     "text": [
      "/tmp/ipykernel_1983/2836074298.py:20: DeprecationWarning: activeCount() is deprecated, use active_count() instead\n",
      "  active_threads = threading.activeCount()\n"
     ]
    }
   ],
   "source": [
    "import threading\n",
    "import time\n",
    "\n",
    "def worker():\n",
    "    print(\"Thread started.\")\n",
    "    time.sleep(2)\n",
    "    print(\"Thread finished.\")\n",
    "\n",
    "# Create and start multiple threads\n",
    "threads = [threading.Thread(target=worker) for _ in range(5)]\n",
    "\n",
    "for thread in threads:\n",
    "    thread.start()\n",
    "\n",
    "# Wait for all threads to finish\n",
    "for thread in threads:\n",
    "    thread.join()\n",
    "\n",
    "# Get the number of currently active threads\n",
    "active_threads = threading.activeCount()\n",
    "print(\"Active threads:\", active_threads)\n"
   ]
  },
  {
   "cell_type": "code",
   "execution_count": null,
   "id": "c650e670-00ea-4e26-adba-33a339e321f1",
   "metadata": {},
   "outputs": [],
   "source": [
    "'''2)currentThread()\n",
    "The currentThread() function is a method provided by the threading module in Python.\n",
    "It returns the currently executing Thread object, representing the thread in which \n",
    "the function is called. This function is often used to access information about the \n",
    "currently executing thread or to perform thread-specific operations.\n",
    "\n",
    "'''"
   ]
  },
  {
   "cell_type": "code",
   "execution_count": 4,
   "id": "f79eeec5-df10-4244-974e-98b43a2ed71c",
   "metadata": {},
   "outputs": [
    {
     "name": "stdout",
     "output_type": "stream",
     "text": [
      "Thread Name: Thread-10 (print_thread_info)\n",
      "Thread Ident: 140245395805760\n"
     ]
    },
    {
     "name": "stderr",
     "output_type": "stream",
     "text": [
      "/tmp/ipykernel_1983/1786334901.py:4: DeprecationWarning: currentThread() is deprecated, use current_thread() instead\n",
      "  current_thread = threading.currentThread()\n",
      "/tmp/ipykernel_1983/1786334901.py:5: DeprecationWarning: getName() is deprecated, get the name attribute instead\n",
      "  print(\"Thread Name:\", current_thread.getName())\n"
     ]
    }
   ],
   "source": [
    "import threading\n",
    "\n",
    "def print_thread_info():\n",
    "    current_thread = threading.currentThread()\n",
    "    print(\"Thread Name:\", current_thread.getName())\n",
    "    print(\"Thread Ident:\", current_thread.ident)\n",
    "\n",
    "# Create and start a thread\n",
    "thread = threading.Thread(target=print_thread_info)\n",
    "thread.start()\n",
    "thread.join()\n"
   ]
  },
  {
   "cell_type": "code",
   "execution_count": null,
   "id": "ea08e02e-aecd-4d94-838b-43c76db5d728",
   "metadata": {},
   "outputs": [],
   "source": [
    "\n",
    "'''3)  enumerate()\n",
    "In the context of Python's threading module, the enumerate() function is not directly associated with threads.\n",
    "However, enumerate() is a built-in Python function that is often used to iterate over elements\n",
    "in a sequence while keeping track of their indices.'''"
   ]
  },
  {
   "cell_type": "code",
   "execution_count": 1,
   "id": "3d13095e-34de-4ae5-8bfb-a59341c094d8",
   "metadata": {},
   "outputs": [
    {
     "name": "stdout",
     "output_type": "stream",
     "text": [
      "Index: 0, Value: 10\n",
      "Index: 1, Value: 20\n",
      "Index: 2, Value: 30\n",
      "Index: 3, Value: 40\n",
      "Index: 4, Value: 50\n"
     ]
    }
   ],
   "source": [
    "numbers = [10, 20, 30, 40, 50]\n",
    "\n",
    "for index, value in enumerate(numbers):\n",
    "    print(f\"Index: {index}, Value: {value}\")\n"
   ]
  },
  {
   "cell_type": "markdown",
   "id": "e9d5188b-92cd-4328-946b-afcdd5a2d0f8",
   "metadata": {},
   "source": [
    " #### Q3.Explain the following functions: \n",
    "        1. run() \n",
    "        2. start() \n",
    "        3. join() \n",
    "        4. isAlive() "
   ]
  },
  {
   "cell_type": "code",
   "execution_count": 2,
   "id": "bf45d61b-fc26-4520-864d-59eb62c07056",
   "metadata": {},
   "outputs": [
    {
     "name": "stdout",
     "output_type": "stream",
     "text": [
      "Thread started\n"
     ]
    }
   ],
   "source": [
    "''' 1. rum\n",
    "The run() method is the entry point for the thread's activity.\n",
    "It's the function that will be executed when the thread is started using the start() method.\n",
    "\n",
    "By default, the run() method of a Thread object represents the code you want to run in that thread. \n",
    "You can override this method to define your own thread behavior\n",
    "'''\n",
    "\n",
    "import threading\n",
    "\n",
    "class MyThread(threading.Thread):\n",
    "    def run(self):\n",
    "        print(\"Thread started\")\n",
    "\n",
    "thread = MyThread()\n",
    "thread.start()  \n"
   ]
  },
  {
   "cell_type": "code",
   "execution_count": 3,
   "id": "5a250518-6fa0-4f82-9a44-317087d6b056",
   "metadata": {},
   "outputs": [
    {
     "name": "stdout",
     "output_type": "stream",
     "text": [
      "Number: 1\n",
      "Number: 2\n",
      "Number: 3\n",
      "Number: 4\n",
      "Number: 5\n"
     ]
    }
   ],
   "source": [
    "'''\n",
    "2.start() Method:\n",
    "\n",
    "The start() method is used to begin the execution of the thread.\n",
    "It initiates the call to the run() method asynchronously.\n",
    "\n",
    "When you call start(), a new thread is created, and the run() method \n",
    "of that thread is executed independently.\n",
    "'''\n",
    "import threading\n",
    "\n",
    "def print_numbers():\n",
    "    for i in range(1, 6):\n",
    "        print(\"Number:\", i)\n",
    "\n",
    "thread = threading.Thread(target=print_numbers)\n",
    "thread.start()\n"
   ]
  },
  {
   "cell_type": "code",
   "execution_count": 4,
   "id": "e28ff063-ffe2-4ecd-b8bb-d57ee3810f32",
   "metadata": {},
   "outputs": [
    {
     "name": "stdout",
     "output_type": "stream",
     "text": [
      "Number: 1\n",
      "Number: 2\n",
      "Number: 3\n",
      "Number: 4\n",
      "Number: 5\n",
      "Thread has finished\n"
     ]
    }
   ],
   "source": [
    "'''\n",
    "3.join() Method:\n",
    "\n",
    "The join() method is used to wait for a thread to finish its execution before moving forward in the program.\n",
    "\n",
    "It blocks the calling thread until the target thread completes.\n",
    "'''\n",
    "import threading\n",
    "\n",
    "def print_numbers():\n",
    "    for i in range(1, 6):\n",
    "        print(\"Number:\", i)\n",
    "\n",
    "thread = threading.Thread(target=print_numbers)\n",
    "thread.start()\n",
    "thread.join()  \n",
    "print(\"Thread has finished\")\n"
   ]
  },
  {
   "cell_type": "code",
   "execution_count": 7,
   "id": "04b5d217-8014-47ac-bc3f-47c16b691b59",
   "metadata": {},
   "outputs": [
    {
     "name": "stdout",
     "output_type": "stream",
     "text": [
      "Thread started\n",
      "Thread is still running\n",
      "Thread finished\n"
     ]
    }
   ],
   "source": [
    "'''\n",
    "4.isAlive() Method:\n",
    "\n",
    "The isAlive() method is used to check whether a thread is currently active or running.\n",
    "\n",
    "It returns True if the thread is still executing and False if it has finished or hasn't started yet.\n",
    "'''\n",
    "import threading\n",
    "import time\n",
    "\n",
    "class MyThread(threading.Thread):\n",
    "    def run(self):\n",
    "        print(\"Thread started\")\n",
    "        time.sleep(3)\n",
    "        print(\"Thread finished\")\n",
    "my_thread = MyThread()\n",
    "my_thread.start()\n",
    "if my_thread.is_alive():\n",
    "    print(\"Thread is still running\")\n",
    "else:\n",
    "    print(\"Thread has finished\")\n"
   ]
  },
  {
   "cell_type": "markdown",
   "id": "6475632e-7170-49eb-a046-bc206593423b",
   "metadata": {},
   "source": [
    "#### Q4.Write a python program to create two threads. Thread one must print the list of squares and thread two must print the list of cubes."
   ]
  },
  {
   "cell_type": "code",
   "execution_count": 8,
   "id": "b6a1a46d-b5bf-4871-a67e-71175836e18a",
   "metadata": {},
   "outputs": [
    {
     "name": "stdout",
     "output_type": "stream",
     "text": [
      "Square: 1\n",
      "Square: 4\n",
      "Square: 9\n",
      "Square: 16\n",
      "Square: 25\n",
      "Cube: 1\n",
      "Cube: 8\n",
      "Cube: 27\n",
      "Cube: 64\n",
      "Cube: 125\n",
      "Both threads are done.\n"
     ]
    }
   ],
   "source": [
    "import threading\n",
    "\n",
    "def print_squares():\n",
    "    for i in range(1, 6):\n",
    "        print(\"Square:\", i * i)\n",
    "\n",
    "def print_cubes():\n",
    "    for i in range(1, 6):\n",
    "        print(\"Cube:\", i * i * i)\n",
    "\n",
    "# Create two threads\n",
    "thread_squares = threading.Thread(target=print_squares)\n",
    "thread_cubes = threading.Thread(target=print_cubes)\n",
    "\n",
    "# Start the threads\n",
    "thread_squares.start()\n",
    "thread_cubes.start()\n",
    "\n",
    "# Wait for both threads to finish\n",
    "thread_squares.join()\n",
    "thread_cubes.join()\n",
    "\n",
    "print(\"Both threads are done.\")\n"
   ]
  },
  {
   "cell_type": "markdown",
   "id": "4e000e0d-323b-4eea-80ed-f1efb6e77d70",
   "metadata": {},
   "source": [
    "####  Q5. State advantages and disadvantages of multithreading."
   ]
  },
  {
   "cell_type": "code",
   "execution_count": null,
   "id": "8dbb5d7f-402d-46ef-86c6-7bf6d96f5b6a",
   "metadata": {},
   "outputs": [],
   "source": [
    "'''\n",
    "Advantages:\n",
    "Concurrency: Multithreading enables concurrent execution of tasks,\n",
    "allowing a program to make better use of available resources and handle multiple tasks simultaneously.\n",
    "\n",
    "Responsiveness: Multithreading can keep applications responsive, especially in user interfaces,\n",
    "by allowing tasks to be performed in the background while keeping the user engaged.\n",
    "\n",
    "Resource Sharing: Threads within the same process share memory space, making it easier to \n",
    "share data and communicate between threads without the need for complex inter-process communication mechanisms.\n",
    "\n",
    "Efficient Context Switching: Context switching between threads is usually faster and requires less overhead \n",
    "than switching between separate processes, making threads suitable for tasks that require frequent switching.\n",
    "\n",
    "I/O-bound Tasks: Multithreading is effective for I/O-bound tasks, such as file operations and network requests,\n",
    "where threads can work on different tasks while waiting for I/O operations to complete.\n",
    "\n",
    "\n",
    "\n",
    "\n",
    "Disadvantages:\n",
    "Complexity: Multithreaded programming introduces complexities like race conditions (data inconsistencies\n",
    "due to concurrent access), deadlocks (threads waiting for each other to release resources),\n",
    "and synchronization issues.\n",
    "\n",
    "Debugging: Debugging multithreaded code can be challenging due to non-deterministic execution, \n",
    "where the order of thread execution is not guaranteed.\n",
    "\n",
    "GIL Limitations: In Python's CPython interpreter, the Global Interpreter Lock (GIL) limits \n",
    "true parallelism in CPU-bound tasks, preventing multiple threads from fully utilizing multiple cores.\n",
    "\n",
    "Performance Overhead: Creating and managing threads can carry overhead due to thread creation and management costs.\n",
    "Additionally, excessive thread creation can lead to resource contention and negatively impact performance.\n",
    "\n",
    "Scalability Issues: As the number of threads increases, the potential for contention and synchronization overhead\n",
    "also increases, potentially leading to diminishing returns.\n",
    "\n",
    "Memory Usage: Threads share memory, which can lead to memory management challenges, \n",
    "such as memory leaks and data corruption if not managed properly.\n",
    "\n",
    "'''"
   ]
  },
  {
   "cell_type": "markdown",
   "id": "ead0c176-fc26-4df6-ae2b-0273cf51d406",
   "metadata": {},
   "source": [
    "#### Q6. Explain deadlocks and race conditions"
   ]
  },
  {
   "cell_type": "code",
   "execution_count": null,
   "id": "7799c2f4-9688-4962-8c89-6edaed9e38b4",
   "metadata": {},
   "outputs": [],
   "source": [
    "'''\n",
    "Deadlocks:\n",
    "A deadlock occurs in a multithreaded or multiprocess system when two or more threads (or processes) \n",
    "are unable to proceed with their execution because each is waiting for the other(s) to release a resource,\n",
    "such as a lock. In other words, the threads are stuck in a circular dependency, preventing any of them \n",
    "from making progress. Deadlocks can lead to a situation where the system becomes unresponsive and can't\n",
    "recover without external intervention.\n",
    "\n",
    "For example, consider two threads, A and B, where thread A has acquired a lock on resource X \n",
    "and is waiting to acquire a lock on resource Y, while thread B has acquired a lock on resource Y \n",
    "and is waiting to acquire a lock on resource X. Since each thread is holding one resource and waiting\n",
    "for the other, they are deadlocked.\n",
    "\n",
    "\n",
    "\n",
    "Race Conditions:\n",
    "A race condition occurs when two or more threads access shared resources or variables concurrently,\n",
    "and the final outcome of the program depends on the order in which the threads are scheduled to execute. \n",
    "Race conditions can lead to unpredictable and incorrect behavior in a program.\n",
    "\n",
    "For example, consider a situation where two threads are simultaneously updating a shared variable count.\n",
    "Thread A increments the count, and Thread B decrements the count. Depending on the timing and scheduling of\n",
    "the threads, the final value of count might not be what you expect, as the increments and decrements might\n",
    "overwrite each other's changes.\n",
    "\n",
    "'''"
   ]
  }
 ],
 "metadata": {
  "kernelspec": {
   "display_name": "Python 3 (ipykernel)",
   "language": "python",
   "name": "python3"
  },
  "language_info": {
   "codemirror_mode": {
    "name": "ipython",
    "version": 3
   },
   "file_extension": ".py",
   "mimetype": "text/x-python",
   "name": "python",
   "nbconvert_exporter": "python",
   "pygments_lexer": "ipython3",
   "version": "3.10.8"
  }
 },
 "nbformat": 4,
 "nbformat_minor": 5
}
